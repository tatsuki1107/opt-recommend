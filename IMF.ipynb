{
 "cells": [
  {
   "cell_type": "code",
   "execution_count": 1,
   "id": "48c14085-915d-4cb6-b1d4-bba705d383ab",
   "metadata": {},
   "outputs": [],
   "source": [
    "import sys; sys.path.insert(0, \"..\")\n",
    "import pandas as pd\n",
    "import numpy as np"
   ]
  },
  {
   "cell_type": "code",
   "execution_count": 2,
   "id": "6573765e-4d6f-48a1-9444-bb7bbe6bfc22",
   "metadata": {},
   "outputs": [
    {
     "data": {
      "text/html": [
       "<div>\n",
       "<style scoped>\n",
       "    .dataframe tbody tr th:only-of-type {\n",
       "        vertical-align: middle;\n",
       "    }\n",
       "\n",
       "    .dataframe tbody tr th {\n",
       "        vertical-align: top;\n",
       "    }\n",
       "\n",
       "    .dataframe thead th {\n",
       "        text-align: right;\n",
       "    }\n",
       "</style>\n",
       "<table border=\"1\" class=\"dataframe\">\n",
       "  <thead>\n",
       "    <tr style=\"text-align: right;\">\n",
       "      <th></th>\n",
       "      <th>user_id</th>\n",
       "      <th>product_id</th>\n",
       "      <th>event_type</th>\n",
       "      <th>ad</th>\n",
       "      <th>time_stamp</th>\n",
       "    </tr>\n",
       "  </thead>\n",
       "  <tbody>\n",
       "    <tr>\n",
       "      <th>0</th>\n",
       "      <td>0000000_A</td>\n",
       "      <td>00009250_a</td>\n",
       "      <td>1</td>\n",
       "      <td>-1</td>\n",
       "      <td>2017-04-08 12:09:04.629</td>\n",
       "    </tr>\n",
       "    <tr>\n",
       "      <th>1</th>\n",
       "      <td>0000000_A</td>\n",
       "      <td>00009250_a</td>\n",
       "      <td>1</td>\n",
       "      <td>-1</td>\n",
       "      <td>2017-04-27 12:55:57.783</td>\n",
       "    </tr>\n",
       "    <tr>\n",
       "      <th>2</th>\n",
       "      <td>0000000_A</td>\n",
       "      <td>00014068_a</td>\n",
       "      <td>1</td>\n",
       "      <td>-1</td>\n",
       "      <td>2017-04-08 11:57:53.746</td>\n",
       "    </tr>\n",
       "    <tr>\n",
       "      <th>3</th>\n",
       "      <td>0000000_A</td>\n",
       "      <td>00001254_a</td>\n",
       "      <td>1</td>\n",
       "      <td>-1</td>\n",
       "      <td>2017-04-08 12:04:26.008</td>\n",
       "    </tr>\n",
       "    <tr>\n",
       "      <th>4</th>\n",
       "      <td>0000000_A</td>\n",
       "      <td>00003316_a</td>\n",
       "      <td>1</td>\n",
       "      <td>-1</td>\n",
       "      <td>2017-04-08 12:05:31.326</td>\n",
       "    </tr>\n",
       "  </tbody>\n",
       "</table>\n",
       "</div>"
      ],
      "text/plain": [
       "     user_id  product_id  event_type  ad               time_stamp\n",
       "0  0000000_A  00009250_a           1  -1  2017-04-08 12:09:04.629\n",
       "1  0000000_A  00009250_a           1  -1  2017-04-27 12:55:57.783\n",
       "2  0000000_A  00014068_a           1  -1  2017-04-08 11:57:53.746\n",
       "3  0000000_A  00001254_a           1  -1  2017-04-08 12:04:26.008\n",
       "4  0000000_A  00003316_a           1  -1  2017-04-08 12:05:31.326"
      ]
     },
     "execution_count": 2,
     "metadata": {},
     "output_type": "execute_result"
    }
   ],
   "source": [
    "df = pd.read_csv('./data/train_A.tsv', delimiter=\"\\t\")\n",
    "df.head()"
   ]
  },
  {
   "cell_type": "code",
   "execution_count": 3,
   "id": "a97f001d-d3db-49f3-bbd4-966907c8023e",
   "metadata": {},
   "outputs": [],
   "source": [
    "df = df.sort_values(by=[\"user_id\", \"product_id\"])\n",
    "df = df[df[\"ad\"]!=0]\n",
    "df[\"event_type\"] = df[\"event_type\"].astype(float)"
   ]
  },
  {
   "cell_type": "code",
   "execution_count": 4,
   "id": "ab5e316d-53d3-4e0e-a121-ef33ed098761",
   "metadata": {},
   "outputs": [
    {
     "data": {
      "text/plain": [
       "array([1, 1, 1, ..., 2, 5, 3])"
      ]
     },
     "execution_count": 4,
     "metadata": {},
     "output_type": "execute_result"
    }
   ],
   "source": [
    "action_count = df.groupby([\"user_id\", \"product_id\"]).size().values\n",
    "action_count"
   ]
  },
  {
   "cell_type": "code",
   "execution_count": 5,
   "id": "75815046-84c4-48ca-80ca-846a55403240",
   "metadata": {},
   "outputs": [
    {
     "data": {
      "text/html": [
       "<div>\n",
       "<style scoped>\n",
       "    .dataframe tbody tr th:only-of-type {\n",
       "        vertical-align: middle;\n",
       "    }\n",
       "\n",
       "    .dataframe tbody tr th {\n",
       "        vertical-align: top;\n",
       "    }\n",
       "\n",
       "    .dataframe thead th {\n",
       "        text-align: right;\n",
       "    }\n",
       "</style>\n",
       "<table border=\"1\" class=\"dataframe\">\n",
       "  <thead>\n",
       "    <tr style=\"text-align: right;\">\n",
       "      <th></th>\n",
       "      <th>user_id</th>\n",
       "      <th>product_id</th>\n",
       "      <th>event_type</th>\n",
       "      <th>ad</th>\n",
       "      <th>time_stamp</th>\n",
       "      <th>action_count</th>\n",
       "    </tr>\n",
       "  </thead>\n",
       "  <tbody>\n",
       "    <tr>\n",
       "      <th>3</th>\n",
       "      <td>0000000_A</td>\n",
       "      <td>00001254_a</td>\n",
       "      <td>1.0</td>\n",
       "      <td>-1</td>\n",
       "      <td>2017-04-08 12:04:26.008</td>\n",
       "      <td>1</td>\n",
       "    </tr>\n",
       "    <tr>\n",
       "      <th>5</th>\n",
       "      <td>0000000_A</td>\n",
       "      <td>00003009_a</td>\n",
       "      <td>1.0</td>\n",
       "      <td>-1</td>\n",
       "      <td>2017-04-14 13:55:07.446</td>\n",
       "      <td>1</td>\n",
       "    </tr>\n",
       "    <tr>\n",
       "      <th>4</th>\n",
       "      <td>0000000_A</td>\n",
       "      <td>00003316_a</td>\n",
       "      <td>1.0</td>\n",
       "      <td>-1</td>\n",
       "      <td>2017-04-08 12:05:31.326</td>\n",
       "      <td>1</td>\n",
       "    </tr>\n",
       "    <tr>\n",
       "      <th>12</th>\n",
       "      <td>0000000_A</td>\n",
       "      <td>00003524_a</td>\n",
       "      <td>1.0</td>\n",
       "      <td>-1</td>\n",
       "      <td>2017-04-27 13:26:46.064</td>\n",
       "      <td>1</td>\n",
       "    </tr>\n",
       "    <tr>\n",
       "      <th>6</th>\n",
       "      <td>0000000_A</td>\n",
       "      <td>00004433_a</td>\n",
       "      <td>1.0</td>\n",
       "      <td>-1</td>\n",
       "      <td>2017-04-27 13:30:18.503</td>\n",
       "      <td>2</td>\n",
       "    </tr>\n",
       "    <tr>\n",
       "      <th>...</th>\n",
       "      <td>...</td>\n",
       "      <td>...</td>\n",
       "      <td>...</td>\n",
       "      <td>...</td>\n",
       "      <td>...</td>\n",
       "      <td>...</td>\n",
       "    </tr>\n",
       "    <tr>\n",
       "      <th>2524516</th>\n",
       "      <td>0058657_A</td>\n",
       "      <td>00009935_a</td>\n",
       "      <td>1.0</td>\n",
       "      <td>-1</td>\n",
       "      <td>2017-04-24 05:18:23.219</td>\n",
       "      <td>1</td>\n",
       "    </tr>\n",
       "    <tr>\n",
       "      <th>2524510</th>\n",
       "      <td>0058657_A</td>\n",
       "      <td>00011943_a</td>\n",
       "      <td>3.0</td>\n",
       "      <td>1</td>\n",
       "      <td>2017-04-21 08:19:00.468</td>\n",
       "      <td>10</td>\n",
       "    </tr>\n",
       "    <tr>\n",
       "      <th>2524522</th>\n",
       "      <td>0058657_A</td>\n",
       "      <td>00013041_a</td>\n",
       "      <td>1.0</td>\n",
       "      <td>-1</td>\n",
       "      <td>2017-04-07 01:31:10.841</td>\n",
       "      <td>2</td>\n",
       "    </tr>\n",
       "    <tr>\n",
       "      <th>2524533</th>\n",
       "      <td>0058657_A</td>\n",
       "      <td>00013336_a</td>\n",
       "      <td>0.0</td>\n",
       "      <td>-1</td>\n",
       "      <td>2017-04-24 06:36:51.952</td>\n",
       "      <td>5</td>\n",
       "    </tr>\n",
       "    <tr>\n",
       "      <th>2524518</th>\n",
       "      <td>0058657_A</td>\n",
       "      <td>00013475_a</td>\n",
       "      <td>1.0</td>\n",
       "      <td>-1</td>\n",
       "      <td>2017-04-05 08:01:39.943</td>\n",
       "      <td>3</td>\n",
       "    </tr>\n",
       "  </tbody>\n",
       "</table>\n",
       "<p>1477376 rows × 6 columns</p>\n",
       "</div>"
      ],
      "text/plain": [
       "           user_id  product_id  event_type  ad               time_stamp  \\\n",
       "3        0000000_A  00001254_a         1.0  -1  2017-04-08 12:04:26.008   \n",
       "5        0000000_A  00003009_a         1.0  -1  2017-04-14 13:55:07.446   \n",
       "4        0000000_A  00003316_a         1.0  -1  2017-04-08 12:05:31.326   \n",
       "12       0000000_A  00003524_a         1.0  -1  2017-04-27 13:26:46.064   \n",
       "6        0000000_A  00004433_a         1.0  -1  2017-04-27 13:30:18.503   \n",
       "...            ...         ...         ...  ..                      ...   \n",
       "2524516  0058657_A  00009935_a         1.0  -1  2017-04-24 05:18:23.219   \n",
       "2524510  0058657_A  00011943_a         3.0   1  2017-04-21 08:19:00.468   \n",
       "2524522  0058657_A  00013041_a         1.0  -1  2017-04-07 01:31:10.841   \n",
       "2524533  0058657_A  00013336_a         0.0  -1  2017-04-24 06:36:51.952   \n",
       "2524518  0058657_A  00013475_a         1.0  -1  2017-04-05 08:01:39.943   \n",
       "\n",
       "         action_count  \n",
       "3                   1  \n",
       "5                   1  \n",
       "4                   1  \n",
       "12                  1  \n",
       "6                   2  \n",
       "...               ...  \n",
       "2524516             1  \n",
       "2524510            10  \n",
       "2524522             2  \n",
       "2524533             5  \n",
       "2524518             3  \n",
       "\n",
       "[1477376 rows x 6 columns]"
      ]
     },
     "execution_count": 5,
     "metadata": {},
     "output_type": "execute_result"
    }
   ],
   "source": [
    "# タイムスタンプは一番最新\n",
    "action_df = df.sort_values(by=[\"user_id\", \"product_id\", \"time_stamp\"],ascending=[True, True, False]).drop_duplicates([\"user_id\", \"product_id\"])\n",
    "action_df[\"action_count\"] = action_count\n",
    "action_df"
   ]
  },
  {
   "cell_type": "code",
   "execution_count": 6,
   "id": "59739328-42a2-4e47-92cf-87b75993ac8f",
   "metadata": {},
   "outputs": [],
   "source": [
    "# ユーザ数を100人に絞る(ぼくのmacのスペック、、)\n",
    "num_users = 10\n",
    "valid_user_ids = sorted(action_df.user_id.unique())[:num_users]\n",
    "action_df = action_df[action_df.user_id <= max(valid_user_ids)]"
   ]
  },
  {
   "cell_type": "code",
   "execution_count": 7,
   "id": "b9f60944-9cf5-473c-91e1-0f6ed9e8b499",
   "metadata": {},
   "outputs": [
    {
     "name": "stderr",
     "output_type": "stream",
     "text": [
      "/root/.cache/pypoetry/virtualenvs/recommendersystems-9TtSrW0h-py3.7/lib/python3.7/site-packages/ipykernel_launcher.py:3: SettingWithCopyWarning: \n",
      "A value is trying to be set on a copy of a slice from a DataFrame.\n",
      "Try using .loc[row_indexer,col_indexer] = value instead\n",
      "\n",
      "See the caveats in the documentation: https://pandas.pydata.org/pandas-docs/stable/user_guide/indexing.html#returning-a-view-versus-a-copy\n",
      "  This is separate from the ipykernel package so we can avoid doing imports until\n",
      "/root/.cache/pypoetry/virtualenvs/recommendersystems-9TtSrW0h-py3.7/lib/python3.7/site-packages/ipykernel_launcher.py:4: SettingWithCopyWarning: \n",
      "A value is trying to be set on a copy of a slice from a DataFrame.\n",
      "Try using .loc[row_indexer,col_indexer] = value instead\n",
      "\n",
      "See the caveats in the documentation: https://pandas.pydata.org/pandas-docs/stable/user_guide/indexing.html#returning-a-view-versus-a-copy\n",
      "  after removing the cwd from sys.path.\n"
     ]
    }
   ],
   "source": [
    "# 学習用とテスト用にデータを分割\n",
    "# 各ユーザの直近5件の映画を評価用に使い、それ以外を学習用にする\n",
    "action_df[\"time_stamp\"] = pd.to_datetime(action_df[\"time_stamp\"])\n",
    "action_df[\"rating_order\"] = action_df.groupby(\"user_id\")[\"time_stamp\"].rank(ascending=False, method=\"first\")\n",
    "train_df = action_df[action_df[\"rating_order\"] > 5]\n",
    "test_df = action_df[action_df[\"rating_order\"] <= 5]"
   ]
  },
  {
   "cell_type": "code",
   "execution_count": 8,
   "id": "37edba40-4619-4e16-8a7e-755aa6ef9148",
   "metadata": {},
   "outputs": [],
   "source": [
    "minmum_num_rating = 0\n",
    "filtered_train_df = train_df.groupby(\"product_id\").filter(lambda x: len(x[\"product_id\"]) >= minmum_num_rating)"
   ]
  },
  {
   "cell_type": "code",
   "execution_count": 9,
   "id": "fb5b2864-0013-4bd1-a661-6f4f23bc524a",
   "metadata": {},
   "outputs": [
    {
     "data": {
      "text/html": [
       "<div>\n",
       "<style scoped>\n",
       "    .dataframe tbody tr th:only-of-type {\n",
       "        vertical-align: middle;\n",
       "    }\n",
       "\n",
       "    .dataframe tbody tr th {\n",
       "        vertical-align: top;\n",
       "    }\n",
       "\n",
       "    .dataframe thead th {\n",
       "        text-align: right;\n",
       "    }\n",
       "</style>\n",
       "<table border=\"1\" class=\"dataframe\">\n",
       "  <thead>\n",
       "    <tr style=\"text-align: right;\">\n",
       "      <th></th>\n",
       "      <th>user_id</th>\n",
       "      <th>product_id</th>\n",
       "      <th>event_type</th>\n",
       "      <th>ad</th>\n",
       "      <th>time_stamp</th>\n",
       "      <th>action_count</th>\n",
       "      <th>rating_order</th>\n",
       "    </tr>\n",
       "  </thead>\n",
       "  <tbody>\n",
       "    <tr>\n",
       "      <th>876635</th>\n",
       "      <td>0000003_A</td>\n",
       "      <td>00000498_a</td>\n",
       "      <td>3.0</td>\n",
       "      <td>1</td>\n",
       "      <td>2017-04-04 01:13:00.964</td>\n",
       "      <td>4</td>\n",
       "      <td>16.0</td>\n",
       "    </tr>\n",
       "    <tr>\n",
       "      <th>876628</th>\n",
       "      <td>0000003_A</td>\n",
       "      <td>00003603_a</td>\n",
       "      <td>3.0</td>\n",
       "      <td>1</td>\n",
       "      <td>2017-04-04 10:20:18.549</td>\n",
       "      <td>5</td>\n",
       "      <td>14.0</td>\n",
       "    </tr>\n",
       "    <tr>\n",
       "      <th>876619</th>\n",
       "      <td>0000003_A</td>\n",
       "      <td>00012529_a</td>\n",
       "      <td>3.0</td>\n",
       "      <td>1</td>\n",
       "      <td>2017-04-01 03:03:28.189</td>\n",
       "      <td>6</td>\n",
       "      <td>23.0</td>\n",
       "    </tr>\n",
       "    <tr>\n",
       "      <th>952482</th>\n",
       "      <td>0000005_A</td>\n",
       "      <td>00002460_a</td>\n",
       "      <td>3.0</td>\n",
       "      <td>1</td>\n",
       "      <td>2017-04-24 07:05:52.974</td>\n",
       "      <td>16</td>\n",
       "      <td>8.0</td>\n",
       "    </tr>\n",
       "    <tr>\n",
       "      <th>952438</th>\n",
       "      <td>0000005_A</td>\n",
       "      <td>00008894_a</td>\n",
       "      <td>3.0</td>\n",
       "      <td>1</td>\n",
       "      <td>2017-04-15 08:45:00.803</td>\n",
       "      <td>12</td>\n",
       "      <td>30.0</td>\n",
       "    </tr>\n",
       "  </tbody>\n",
       "</table>\n",
       "</div>"
      ],
      "text/plain": [
       "          user_id  product_id  event_type  ad              time_stamp  \\\n",
       "876635  0000003_A  00000498_a         3.0   1 2017-04-04 01:13:00.964   \n",
       "876628  0000003_A  00003603_a         3.0   1 2017-04-04 10:20:18.549   \n",
       "876619  0000003_A  00012529_a         3.0   1 2017-04-01 03:03:28.189   \n",
       "952482  0000005_A  00002460_a         3.0   1 2017-04-24 07:05:52.974   \n",
       "952438  0000005_A  00008894_a         3.0   1 2017-04-15 08:45:00.803   \n",
       "\n",
       "        action_count  rating_order  \n",
       "876635             4          16.0  \n",
       "876628             5          14.0  \n",
       "876619             6          23.0  \n",
       "952482            16           8.0  \n",
       "952438            12          30.0  "
      ]
     },
     "execution_count": 9,
     "metadata": {},
     "output_type": "execute_result"
    }
   ],
   "source": [
    "# 行列分解用に行列を作成\n",
    "train_high_event = filtered_train_df[train_df[\"event_type\"] >= 2]\n",
    "train_high_event.head()"
   ]
  },
  {
   "cell_type": "code",
   "execution_count": 10,
   "id": "7d80240e-9dd3-4cd1-8fbd-8b8116cda335",
   "metadata": {},
   "outputs": [],
   "source": [
    "unique_user_ids = sorted(train_high_event.user_id.unique())\n",
    "unique_product_ids = sorted(train_high_event.product_id.unique())\n",
    "user_id2index = dict(zip(unique_user_ids, range(len(unique_user_ids))))\n",
    "product_id2index = dict(zip(unique_product_ids, range(len(unique_product_ids))))"
   ]
  },
  {
   "cell_type": "code",
   "execution_count": 11,
   "id": "d80a544e-4b43-449d-a14e-0343e5690de0",
   "metadata": {},
   "outputs": [
    {
     "data": {
      "text/plain": [
       "<7x2 sparse matrix of type '<class 'numpy.float64'>'\n",
       "\twith 0 stored elements in List of Lists format>"
      ]
     },
     "execution_count": 11,
     "metadata": {},
     "output_type": "execute_result"
    }
   ],
   "source": [
    "from scipy.sparse import lil_matrix\n",
    "alpha = 0\n",
    "\n",
    "matrix = lil_matrix((len(unique_product_ids), len(unique_user_ids)))\n",
    "for i, row in train_high_event.iterrows():\n",
    "    user_index = user_id2index[row[\"user_id\"]]\n",
    "    product_index = product_id2index[row[\"product_id\"]]\n",
    "    matrix[product_index, user_index] = row[\"event_type\"]*alpha\n",
    "matrix"
   ]
  },
  {
   "cell_type": "code",
   "execution_count": 12,
   "id": "9d385f6d-a32b-4f00-a186-312ffb1f7918",
   "metadata": {},
   "outputs": [],
   "source": [
    "# 行列分解用に行列を\n",
    "train_high_event = filtered_train_df[train_df[\"event_type\"] >= 2]\n",
    "        \n",
    "unique_user_ids = sorted(train_high_event.user_id.unique())\n",
    "unique_product_ids = sorted(train_high_event.product_id.unique())\n",
    "user_id2index = dict(zip(unique_user_ids, range(len(unique_user_ids))))\n",
    "product_id2index = dict(zip(unique_product_ids, range(len(unique_product_ids))))"
   ]
  },
  {
   "cell_type": "code",
   "execution_count": 14,
   "id": "eb5c009e-57c3-475c-90aa-7bf33289d67c",
   "metadata": {},
   "outputs": [
    {
     "name": "stderr",
     "output_type": "stream",
     "text": [
      "WARNING:root:OpenBLAS detected. Its highly recommend to set the environment variable 'export OPENBLAS_NUM_THREADS=1' to disable its internal multithreading\n"
     ]
    }
   ],
   "source": [
    "import implicit\n",
    "# 因子数\n",
    "factors = 10\n",
    "# エポック数\n",
    "n_epochs = 50\n",
    "\n",
    "# モデルの初期化\n",
    "model = implicit.als.AlternatingLeastSquares(\n",
    "    factors=factors, iterations=n_epochs, calculate_training_loss=True, random_state=1\n",
    ")"
   ]
  },
  {
   "cell_type": "code",
   "execution_count": 15,
   "id": "cd440f49-b691-4a1d-95d8-a70daec62399",
   "metadata": {},
   "outputs": [
    {
     "data": {
      "application/vnd.jupyter.widget-view+json": {
       "model_id": "afd87e22aef04751b377748bd5dca7f4",
       "version_major": 2,
       "version_minor": 0
      },
      "text/plain": [
       "  0%|          | 0/50 [00:00<?, ?it/s]"
      ]
     },
     "metadata": {},
     "output_type": "display_data"
    },
    {
     "name": "stdout",
     "output_type": "stream",
     "text": [
      "\n"
     ]
    }
   ],
   "source": [
    "# 学習\n",
    "model.fit(matrix)\n",
    "print(matrix)"
   ]
  },
  {
   "cell_type": "code",
   "execution_count": null,
   "id": "f567fea8-8b2b-445f-8d0c-94570d53bef6",
   "metadata": {},
   "outputs": [],
   "source": []
  }
 ],
 "metadata": {
  "kernelspec": {
   "display_name": "Python 3 (ipykernel)",
   "language": "python",
   "name": "python3"
  },
  "language_info": {
   "codemirror_mode": {
    "name": "ipython",
    "version": 3
   },
   "file_extension": ".py",
   "mimetype": "text/x-python",
   "name": "python",
   "nbconvert_exporter": "python",
   "pygments_lexer": "ipython3",
   "version": "3.7.8"
  }
 },
 "nbformat": 4,
 "nbformat_minor": 5
}
