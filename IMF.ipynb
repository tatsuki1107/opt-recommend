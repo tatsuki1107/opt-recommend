{
 "cells": [
  {
   "cell_type": "code",
   "execution_count": 1,
   "id": "48c14085-915d-4cb6-b1d4-bba705d383ab",
   "metadata": {},
   "outputs": [],
   "source": [
    "import sys; sys.path.insert(0, \"..\")\n",
    "import pandas as pd\n",
    "import numpy as np"
   ]
  },
  {
   "cell_type": "code",
   "execution_count": 2,
   "id": "6573765e-4d6f-48a1-9444-bb7bbe6bfc22",
   "metadata": {},
   "outputs": [
    {
     "data": {
      "text/html": [
       "<div>\n",
       "<style scoped>\n",
       "    .dataframe tbody tr th:only-of-type {\n",
       "        vertical-align: middle;\n",
       "    }\n",
       "\n",
       "    .dataframe tbody tr th {\n",
       "        vertical-align: top;\n",
       "    }\n",
       "\n",
       "    .dataframe thead th {\n",
       "        text-align: right;\n",
       "    }\n",
       "</style>\n",
       "<table border=\"1\" class=\"dataframe\">\n",
       "  <thead>\n",
       "    <tr style=\"text-align: right;\">\n",
       "      <th></th>\n",
       "      <th>user_id</th>\n",
       "      <th>product_id</th>\n",
       "      <th>event_type</th>\n",
       "      <th>ad</th>\n",
       "      <th>time_stamp</th>\n",
       "    </tr>\n",
       "  </thead>\n",
       "  <tbody>\n",
       "    <tr>\n",
       "      <th>0</th>\n",
       "      <td>0000000_A</td>\n",
       "      <td>00009250_a</td>\n",
       "      <td>1</td>\n",
       "      <td>-1</td>\n",
       "      <td>2017-04-08 12:09:04.629</td>\n",
       "    </tr>\n",
       "    <tr>\n",
       "      <th>1</th>\n",
       "      <td>0000000_A</td>\n",
       "      <td>00009250_a</td>\n",
       "      <td>1</td>\n",
       "      <td>-1</td>\n",
       "      <td>2017-04-27 12:55:57.783</td>\n",
       "    </tr>\n",
       "    <tr>\n",
       "      <th>2</th>\n",
       "      <td>0000000_A</td>\n",
       "      <td>00014068_a</td>\n",
       "      <td>1</td>\n",
       "      <td>-1</td>\n",
       "      <td>2017-04-08 11:57:53.746</td>\n",
       "    </tr>\n",
       "    <tr>\n",
       "      <th>3</th>\n",
       "      <td>0000000_A</td>\n",
       "      <td>00001254_a</td>\n",
       "      <td>1</td>\n",
       "      <td>-1</td>\n",
       "      <td>2017-04-08 12:04:26.008</td>\n",
       "    </tr>\n",
       "    <tr>\n",
       "      <th>4</th>\n",
       "      <td>0000000_A</td>\n",
       "      <td>00003316_a</td>\n",
       "      <td>1</td>\n",
       "      <td>-1</td>\n",
       "      <td>2017-04-08 12:05:31.326</td>\n",
       "    </tr>\n",
       "  </tbody>\n",
       "</table>\n",
       "</div>"
      ],
      "text/plain": [
       "     user_id  product_id  event_type  ad               time_stamp\n",
       "0  0000000_A  00009250_a           1  -1  2017-04-08 12:09:04.629\n",
       "1  0000000_A  00009250_a           1  -1  2017-04-27 12:55:57.783\n",
       "2  0000000_A  00014068_a           1  -1  2017-04-08 11:57:53.746\n",
       "3  0000000_A  00001254_a           1  -1  2017-04-08 12:04:26.008\n",
       "4  0000000_A  00003316_a           1  -1  2017-04-08 12:05:31.326"
      ]
     },
     "execution_count": 2,
     "metadata": {},
     "output_type": "execute_result"
    }
   ],
   "source": [
    "df = pd.read_csv('./data/train_A.tsv', delimiter=\"\\t\")\n",
    "df.head()"
   ]
  },
  {
   "cell_type": "code",
   "execution_count": 3,
   "id": "a97f001d-d3db-49f3-bbd4-966907c8023e",
   "metadata": {},
   "outputs": [],
   "source": [
    "df = df.sort_values(by=[\"user_id\", \"product_id\"])\n",
    "df = df[df[\"ad\"]!=0]\n",
    "df[\"event_type\"] = df[\"event_type\"].astype(float)"
   ]
  },
  {
   "cell_type": "code",
   "execution_count": 4,
   "id": "ab5e316d-53d3-4e0e-a121-ef33ed098761",
   "metadata": {},
   "outputs": [
    {
     "data": {
      "text/plain": [
       "array([1, 1, 1, ..., 2, 5, 3])"
      ]
     },
     "execution_count": 4,
     "metadata": {},
     "output_type": "execute_result"
    }
   ],
   "source": [
    "action_count = df.groupby([\"user_id\", \"product_id\"]).size().values\n",
    "action_count"
   ]
  },
  {
   "cell_type": "code",
   "execution_count": 5,
   "id": "75815046-84c4-48ca-80ca-846a55403240",
   "metadata": {},
   "outputs": [],
   "source": [
    "# タイムスタンプは一番最新\n",
    "action_df = df.sort_values(by=[\"user_id\", \"product_id\", \"time_stamp\"],ascending=[True, True, False]).drop_duplicates([\"user_id\", \"product_id\"])\n",
    "action_df[\"action_count\"] = action_count\n",
    "action_df = action_df[action_df[\"event_type\"] != 0.0]"
   ]
  },
  {
   "cell_type": "code",
   "execution_count": 6,
   "id": "59739328-42a2-4e47-92cf-87b75993ac8f",
   "metadata": {
    "tags": []
   },
   "outputs": [],
   "source": [
    "# ユーザ数を100人に絞る(ぼくのmacのスペック、、)\n",
    "# num_users = 100\n",
    "# valid_user_ids = sorted(action_df.user_id.unique())[:num_users]\n",
    "# action_df = action_df[action_df.user_id <= max(valid_user_ids)]"
   ]
  },
  {
   "cell_type": "code",
   "execution_count": 7,
   "id": "b9f60944-9cf5-473c-91e1-0f6ed9e8b499",
   "metadata": {},
   "outputs": [],
   "source": [
    "# 学習用とテスト用にデータを分割\n",
    "# 各ユーザの直近5件の映画を評価用に使い、それ以外を学習用にする\n",
    "action_df[\"time_stamp\"] = pd.to_datetime(action_df[\"time_stamp\"])\n",
    "action_df[\"rating_order\"] = action_df.groupby(\"user_id\")[\"time_stamp\"].rank(ascending=False, method=\"first\")\n",
    "train_df = action_df[action_df[\"rating_order\"] > 5]\n",
    "test_df = action_df[action_df[\"rating_order\"] <= 5]"
   ]
  },
  {
   "cell_type": "code",
   "execution_count": 8,
   "id": "37edba40-4619-4e16-8a7e-755aa6ef9148",
   "metadata": {},
   "outputs": [],
   "source": [
    "minmum_num_rating = 0\n",
    "filtered_train_df = train_df.groupby(\"product_id\").filter(lambda x: len(x[\"product_id\"]) >= minmum_num_rating)"
   ]
  },
  {
   "cell_type": "code",
   "execution_count": 9,
   "id": "40ce1bd7-b545-40e0-ae9b-4af0cb90c4c0",
   "metadata": {},
   "outputs": [
    {
     "data": {
      "text/plain": [
       "<AxesSubplot:title={'center':'action_count'}, xlabel='event_type'>"
      ]
     },
     "execution_count": 9,
     "metadata": {},
     "output_type": "execute_result"
    },
    {
     "data": {
      "image/png": "[encoded data removed]",
      "text/plain": [
       "<Figure size 640x480 with 1 Axes>"
      ]
     },
     "metadata": {},
     "output_type": "display_data"
    }
   ],
   "source": [
    "import matplotlib.pyplot as plt\n",
    "\n",
    "# event_typeごとのaction_countの箱ひげ図\n",
    "filtered_train_df.boxplot(by=\"event_type\", column=\"action_count\", sym=\"\")"
   ]
  },
  {
   "cell_type": "code",
   "execution_count": 10,
   "id": "e35f818b-7bea-4982-a387-e01ea69c9058",
   "metadata": {},
   "outputs": [
    {
     "data": {
      "text/plain": [
       "array([[<AxesSubplot:title={'center':'1.0'}>,\n",
       "        <AxesSubplot:title={'center':'2.0'}>],\n",
       "       [<AxesSubplot:title={'center':'3.0'}>, <AxesSubplot:>]],\n",
       "      dtype=object)"
      ]
     },
     "execution_count": 10,
     "metadata": {},
     "output_type": "execute_result"
    },
    {
     "data": {
      "image/png": "[encoded data removed]",
      "text/plain": [
       "<Figure size 640x480 with 4 Axes>"
      ]
     },
     "metadata": {},
     "output_type": "display_data"
    }
   ],
   "source": [
    "# ヒストグラム\n",
    "filtered_train_df.hist(by=\"event_type\", column=\"action_count\", range=(1, 10))"
   ]
  },
  {
   "cell_type": "code",
   "execution_count": 11,
   "id": "7d80240e-9dd3-4cd1-8fbd-8b8116cda335",
   "metadata": {},
   "outputs": [],
   "source": [
    "unique_user_ids = sorted(action_df.user_id.unique())\n",
    "unique_product_ids = sorted(action_df.product_id.unique())\n",
    "user_id2index = dict(zip(unique_user_ids, range(len(unique_user_ids))))\n",
    "product_id2index = dict(zip(unique_product_ids, range(len(unique_product_ids))))"
   ]
  },
  {
   "cell_type": "code",
   "execution_count": 28,
   "id": "ba31df5d-076e-4989-a1f5-1df25f11cfa7",
   "metadata": {},
   "outputs": [
    {
     "data": {
      "text/plain": [
       "50586"
      ]
     },
     "execution_count": 28,
     "metadata": {},
     "output_type": "execute_result"
    }
   ],
   "source": [
    "len(unique_user_ids)"
   ]
  },
  {
   "cell_type": "code",
   "execution_count": 12,
   "id": "d80a544e-4b43-449d-a14e-0343e5690de0",
   "metadata": {},
   "outputs": [
    {
     "data": {
      "text/plain": [
       "<13763x50586 sparse matrix of type '<class 'numpy.float64'>'\n",
       "\twith 951563 stored elements in List of Lists format>"
      ]
     },
     "execution_count": 12,
     "metadata": {},
     "output_type": "execute_result"
    }
   ],
   "source": [
    "from scipy.sparse import lil_matrix\n",
    "alpha = 1.0\n",
    "\n",
    "matrix = lil_matrix((len(unique_product_ids), len(unique_user_ids)))\n",
    "for i, row in filtered_train_df.iterrows():\n",
    "    user_index = user_id2index[row[\"user_id\"]]\n",
    "    product_index = product_id2index[row[\"product_id\"]]\n",
    "    matrix[product_index, user_index] = row[\"action_count\"]*alpha\n",
    "matrix"
   ]
  },
  {
   "cell_type": "code",
   "execution_count": 13,
   "id": "eb5c009e-57c3-475c-90aa-7bf33289d67c",
   "metadata": {},
   "outputs": [
    {
     "name": "stderr",
     "output_type": "stream",
     "text": [
      "WARNING:root:OpenBLAS detected. Its highly recommend to set the environment variable 'export OPENBLAS_NUM_THREADS=1' to disable its internal multithreading\n"
     ]
    }
   ],
   "source": [
    "import implicit\n",
    "# 因子数\n",
    "factors = 10\n",
    "# エポック数\n",
    "n_epochs = 50\n",
    "\n",
    "# モデルの初期化\n",
    "model = implicit.als.AlternatingLeastSquares(\n",
    "    factors=factors, iterations=n_epochs, calculate_training_loss=True, random_state=1\n",
    ")"
   ]
  },
  {
   "cell_type": "code",
   "execution_count": 14,
   "id": "cd440f49-b691-4a1d-95d8-a70daec62399",
   "metadata": {},
   "outputs": [
    {
     "data": {
      "application/vnd.jupyter.widget-view+json": {
       "model_id": "4f56f4365d7c4ce1a36a9a1b94308069",
       "version_major": 2,
       "version_minor": 0
      },
      "text/plain": [
       "  0%|          | 0/50 [00:00<?, ?it/s]"
      ]
     },
     "metadata": {},
     "output_type": "display_data"
    }
   ],
   "source": [
    "# 学習\n",
    "model.fit(matrix)"
   ]
  },
  {
   "cell_type": "code",
   "execution_count": 15,
   "id": "f567fea8-8b2b-445f-8d0c-94570d53bef6",
   "metadata": {},
   "outputs": [
    {
     "data": {
      "application/vnd.jupyter.widget-view+json": {
       "model_id": "baf868720d5542029a020b492fcc1541",
       "version_major": 2,
       "version_minor": 0
      },
      "text/plain": [
       "  0%|          | 0/50586 [00:00<?, ?it/s]"
      ]
     },
     "metadata": {},
     "output_type": "display_data"
    }
   ],
   "source": [
    "from collections import defaultdict\n",
    "\n",
    "# 推薦\n",
    "recommendations = model.recommend_all(matrix.T)"
   ]
  },
  {
   "cell_type": "code",
   "execution_count": 77,
   "id": "00ac9fda-3d09-4261-b7de-22dddea59935",
   "metadata": {},
   "outputs": [],
   "source": [
    "pred_user2items = defaultdict(list)\n",
    "for user_id, user_index in user_id2index.items():\n",
    "    product_indexes = recommendations[user_index, :]\n",
    "    for product_index in product_indexes:\n",
    "        product_id = unique_product_ids[product_index]\n",
    "        pred_user2items[user_id].append(product_id)\n"
   ]
  },
  {
   "cell_type": "code",
   "execution_count": 78,
   "id": "b9223e41-5c4e-43a5-afa9-4a6ef8d5998f",
   "metadata": {},
   "outputs": [],
   "source": [
    "# テストアイテム生成(eventtype>=2を高評価とする)\n",
    "\n",
    "product_test_user2items = (\n",
    "    test_df[test_df[\"action_count\"] >= 3.0].groupby(\"user_id\").agg({\"product_id\": list})[\"product_id\"].to_dict()\n",
    ")\n",
    "                           "
   ]
  },
  {
   "cell_type": "code",
   "execution_count": 79,
   "id": "43b93b5e-f205-42c9-bd19-d197710c13c3",
   "metadata": {},
   "outputs": [],
   "source": [
    "import numpy as np\n",
    "# precision\n",
    "# k = 5\n",
    "scores = []\n",
    "k = 5\n",
    "for user_id in product_test_user2items.keys():\n",
    "    true_items = product_test_user2items[user_id]\n",
    "    pred_items = pred_user2items[user_id]\n",
    "    p_at_k = len(set(true_items) & set(pred_items[:k])) / k\n",
    "    scores.append(p_at_k)\n",
    "precision = np.mean(scores)"
   ]
  },
  {
   "cell_type": "code",
   "execution_count": 80,
   "id": "b2e741ac-70c8-4fe7-ade9-fa4b4c9cd8b5",
   "metadata": {},
   "outputs": [
    {
     "name": "stdout",
     "output_type": "stream",
     "text": [
      "precision@K=0.018\n"
     ]
    }
   ],
   "source": [
    "print(f\"precision@K={precision:.3f}\")"
   ]
  },
  {
   "cell_type": "code",
   "execution_count": 20,
   "id": "a9c1084a-e96d-470b-b175-56ccc067ddab",
   "metadata": {},
   "outputs": [],
   "source": [
    "# recall\n",
    "scores = []\n",
    "for user_id in product_test_user2items.keys():\n",
    "    true_items = product_test_user2items[user_id]\n",
    "    pred_items = pred_user2items[user_id]\n",
    "    r_at_k = 0.0\n",
    "    if len(true_items) != 0:\n",
    "        r_at_k = (len(set(true_items) & set(pred_items[:k]))) / len(true_items)\n",
    "    scores.append(r_at_k)\n",
    "recall = np.mean(scores)\n",
    "print(f\"recall@K=\")"
   ]
  }
 ],
 "metadata": {
  "kernelspec": {
   "display_name": "Python 3 (ipykernel)",
   "language": "python",
   "name": "python3"
  },
  "language_info": {
   "codemirror_mode": {
    "name": "ipython",
    "version": 3
   },
   "file_extension": ".py",
   "mimetype": "text/x-python",
   "name": "python",
   "nbconvert_exporter": "python",
   "pygments_lexer": "ipython3",
   "version": "3.7.8"
  }
 },
 "nbformat": 4,
 "nbformat_minor": 5
}
